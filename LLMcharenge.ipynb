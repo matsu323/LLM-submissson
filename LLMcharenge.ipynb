{
  "nbformat": 4,
  "nbformat_minor": 0,
  "metadata": {
    "colab": {
      "provenance": [],
      "include_colab_link": true
    },
    "kernelspec": {
      "name": "python3",
      "display_name": "Python 3"
    },
    "language_info": {
      "name": "python"
    }
  },
  "cells": [
    {
      "cell_type": "markdown",
      "metadata": {
        "id": "view-in-github",
        "colab_type": "text"
      },
      "source": [
        "<a href=\"https://colab.research.google.com/github/matsu323/LLM-submissson/blob/main/LLMcharenge.ipynb\" target=\"_parent\"><img src=\"https://colab.research.google.com/assets/colab-badge.svg\" alt=\"Open In Colab\"/></a>"
      ]
    },
    {
      "cell_type": "code",
      "source": [
        "import numpy as np"
      ],
      "metadata": {
        "id": "kT0HC1ZQEp9I"
      },
      "execution_count": 1,
      "outputs": []
    },
    {
      "cell_type": "code",
      "source": [
        "!pip install rdkit-pypi\n",
        "!pip install openai\n",
        "!pip install pubchempy\n",
        "import pubchempy as pcp\n",
        "\n",
        "!pip install rdkit\n",
        "from rdkit import Chem\n",
        "from rdkit.Chem import AllChem\n",
        "from rdkit.DataStructs.cDataStructs import TanimotoSimilarity"
      ],
      "metadata": {
        "colab": {
          "base_uri": "https://localhost:8080/"
        },
        "id": "J2aHR0TsbFJQ",
        "outputId": "b3e8ece2-8e74-49c7-f12d-c431fa46b9c1"
      },
      "execution_count": 2,
      "outputs": [
        {
          "output_type": "stream",
          "name": "stdout",
          "text": [
            "Looking in indexes: https://pypi.org/simple, https://us-python.pkg.dev/colab-wheels/public/simple/\n",
            "Collecting rdkit-pypi\n",
            "  Downloading rdkit_pypi-2022.9.5-cp310-cp310-manylinux_2_17_x86_64.manylinux2014_x86_64.whl (29.4 MB)\n",
            "\u001b[2K     \u001b[90m━━━━━━━━━━━━━━━━━━━━━━━━━━━━━━━━━━━━━━━━\u001b[0m \u001b[32m29.4/29.4 MB\u001b[0m \u001b[31m50.8 MB/s\u001b[0m eta \u001b[36m0:00:00\u001b[0m\n",
            "\u001b[?25hRequirement already satisfied: numpy in /usr/local/lib/python3.10/dist-packages (from rdkit-pypi) (1.22.4)\n",
            "Requirement already satisfied: Pillow in /usr/local/lib/python3.10/dist-packages (from rdkit-pypi) (8.4.0)\n",
            "Installing collected packages: rdkit-pypi\n",
            "Successfully installed rdkit-pypi-2022.9.5\n",
            "Looking in indexes: https://pypi.org/simple, https://us-python.pkg.dev/colab-wheels/public/simple/\n",
            "Collecting openai\n",
            "  Downloading openai-0.27.7-py3-none-any.whl (71 kB)\n",
            "\u001b[2K     \u001b[90m━━━━━━━━━━━━━━━━━━━━━━━━━━━━━━━━━━━━━━━━\u001b[0m \u001b[32m72.0/72.0 kB\u001b[0m \u001b[31m7.6 MB/s\u001b[0m eta \u001b[36m0:00:00\u001b[0m\n",
            "\u001b[?25hRequirement already satisfied: requests>=2.20 in /usr/local/lib/python3.10/dist-packages (from openai) (2.27.1)\n",
            "Requirement already satisfied: tqdm in /usr/local/lib/python3.10/dist-packages (from openai) (4.65.0)\n",
            "Collecting aiohttp (from openai)\n",
            "  Downloading aiohttp-3.8.4-cp310-cp310-manylinux_2_17_x86_64.manylinux2014_x86_64.whl (1.0 MB)\n",
            "\u001b[2K     \u001b[90m━━━━━━━━━━━━━━━━━━━━━━━━━━━━━━━━━━━━━━━━\u001b[0m \u001b[32m1.0/1.0 MB\u001b[0m \u001b[31m55.9 MB/s\u001b[0m eta \u001b[36m0:00:00\u001b[0m\n",
            "\u001b[?25hRequirement already satisfied: urllib3<1.27,>=1.21.1 in /usr/local/lib/python3.10/dist-packages (from requests>=2.20->openai) (1.26.15)\n",
            "Requirement already satisfied: certifi>=2017.4.17 in /usr/local/lib/python3.10/dist-packages (from requests>=2.20->openai) (2022.12.7)\n",
            "Requirement already satisfied: charset-normalizer~=2.0.0 in /usr/local/lib/python3.10/dist-packages (from requests>=2.20->openai) (2.0.12)\n",
            "Requirement already satisfied: idna<4,>=2.5 in /usr/local/lib/python3.10/dist-packages (from requests>=2.20->openai) (3.4)\n",
            "Requirement already satisfied: attrs>=17.3.0 in /usr/local/lib/python3.10/dist-packages (from aiohttp->openai) (23.1.0)\n",
            "Collecting multidict<7.0,>=4.5 (from aiohttp->openai)\n",
            "  Downloading multidict-6.0.4-cp310-cp310-manylinux_2_17_x86_64.manylinux2014_x86_64.whl (114 kB)\n",
            "\u001b[2K     \u001b[90m━━━━━━━━━━━━━━━━━━━━━━━━━━━━━━━━━━━━━━\u001b[0m \u001b[32m114.5/114.5 kB\u001b[0m \u001b[31m13.2 MB/s\u001b[0m eta \u001b[36m0:00:00\u001b[0m\n",
            "\u001b[?25hCollecting async-timeout<5.0,>=4.0.0a3 (from aiohttp->openai)\n",
            "  Downloading async_timeout-4.0.2-py3-none-any.whl (5.8 kB)\n",
            "Collecting yarl<2.0,>=1.0 (from aiohttp->openai)\n",
            "  Downloading yarl-1.9.2-cp310-cp310-manylinux_2_17_x86_64.manylinux2014_x86_64.whl (268 kB)\n",
            "\u001b[2K     \u001b[90m━━━━━━━━━━━━━━━━━━━━━━━━━━━━━━━━━━━━━━\u001b[0m \u001b[32m268.8/268.8 kB\u001b[0m \u001b[31m27.3 MB/s\u001b[0m eta \u001b[36m0:00:00\u001b[0m\n",
            "\u001b[?25hCollecting frozenlist>=1.1.1 (from aiohttp->openai)\n",
            "  Downloading frozenlist-1.3.3-cp310-cp310-manylinux_2_5_x86_64.manylinux1_x86_64.manylinux_2_17_x86_64.manylinux2014_x86_64.whl (149 kB)\n",
            "\u001b[2K     \u001b[90m━━━━━━━━━━━━━━━━━━━━━━━━━━━━━━━━━━━━━━\u001b[0m \u001b[32m149.6/149.6 kB\u001b[0m \u001b[31m16.9 MB/s\u001b[0m eta \u001b[36m0:00:00\u001b[0m\n",
            "\u001b[?25hCollecting aiosignal>=1.1.2 (from aiohttp->openai)\n",
            "  Downloading aiosignal-1.3.1-py3-none-any.whl (7.6 kB)\n",
            "Installing collected packages: multidict, frozenlist, async-timeout, yarl, aiosignal, aiohttp, openai\n",
            "Successfully installed aiohttp-3.8.4 aiosignal-1.3.1 async-timeout-4.0.2 frozenlist-1.3.3 multidict-6.0.4 openai-0.27.7 yarl-1.9.2\n",
            "Looking in indexes: https://pypi.org/simple, https://us-python.pkg.dev/colab-wheels/public/simple/\n",
            "Collecting pubchempy\n",
            "  Downloading PubChemPy-1.0.4.tar.gz (29 kB)\n",
            "  Preparing metadata (setup.py) ... \u001b[?25l\u001b[?25hdone\n",
            "Building wheels for collected packages: pubchempy\n",
            "  Building wheel for pubchempy (setup.py) ... \u001b[?25l\u001b[?25hdone\n",
            "  Created wheel for pubchempy: filename=PubChemPy-1.0.4-py3-none-any.whl size=13820 sha256=c109b2ad6a722b7331637501f95e7efd658e1038b39cd453cff31b89c1bc65f9\n",
            "  Stored in directory: /root/.cache/pip/wheels/90/7c/45/18a0671e3c3316966ef7ed9ad2b3f3300a7e41d3421a44e799\n",
            "Successfully built pubchempy\n",
            "Installing collected packages: pubchempy\n",
            "Successfully installed pubchempy-1.0.4\n",
            "Looking in indexes: https://pypi.org/simple, https://us-python.pkg.dev/colab-wheels/public/simple/\n",
            "Collecting rdkit\n",
            "  Downloading rdkit-2023.3.1-cp310-cp310-manylinux_2_17_x86_64.manylinux2014_x86_64.whl (29.7 MB)\n",
            "\u001b[2K     \u001b[90m━━━━━━━━━━━━━━━━━━━━━━━━━━━━━━━━━━━━━━━━\u001b[0m \u001b[32m29.7/29.7 MB\u001b[0m \u001b[31m38.5 MB/s\u001b[0m eta \u001b[36m0:00:00\u001b[0m\n",
            "\u001b[?25hRequirement already satisfied: numpy in /usr/local/lib/python3.10/dist-packages (from rdkit) (1.22.4)\n",
            "Requirement already satisfied: Pillow in /usr/local/lib/python3.10/dist-packages (from rdkit) (8.4.0)\n",
            "Installing collected packages: rdkit\n",
            "Successfully installed rdkit-2023.3.1\n"
          ]
        }
      ]
    },
    {
      "cell_type": "code",
      "source": [
        "from rdkit.DataStructs.cDataStructs import TanimotoSimilarity"
      ],
      "metadata": {
        "id": "Kgc3QuObmxEU"
      },
      "execution_count": 3,
      "outputs": []
    },
    {
      "cell_type": "code",
      "source": [
        "sdf_file = '/content/CBLB_inhibitors_vsF.sdf'\n",
        "suppl = Chem.SDMolSupplier(sdf_file)\n",
        "\n",
        "\n",
        "# 分子をSMILES形式に変換する\n",
        "molecules = []\n",
        "for mol in suppl:\n",
        "    if mol is not None:\n",
        "        smiles = Chem.MolToSmiles(mol)\n",
        "        molecules.append(smiles)\n",
        "activity_scores=[]\n"
      ],
      "metadata": {
        "id": "kmXYCbEXUOOs"
      },
      "execution_count": 4,
      "outputs": []
    },
    {
      "cell_type": "code",
      "source": [
        "#PubChemに登録されていないもの\n",
        "no=[4,\n",
        "20,\n",
        "21,\n",
        "45,\n",
        "51,\n",
        "52,\n",
        "61,\n",
        "64,\n",
        "79,\n",
        "109,\n",
        "127,\n",
        "132,\n",
        "134,\n",
        "167,\n",
        "178,\n",
        "184,\n",
        "185,\n",
        "256,\n",
        "385,\n",
        "404,\n",
        "406,\n",
        "408,\n",
        "409,\n",
        "417,\n",
        "420,\n",
        "423,\n",
        "425,\n",
        "469,\n",
        "518,\n",
        "519,\n",
        "570,\n",
        "571,\n",
        "587,\n",
        "588,\n",
        "592,\n",
        "594,\n",
        "597,\n",
        "599,\n",
        "602,\n",
        "613,\n",
        "722,\n",
        "819,\n",
        "820,\n",
        "823,\n",
        "825,\n",
        "831,\n",
        "832,\n",
        "834]\n",
        "remol = [molecules[i] for i in range(len(molecules)) if i not in no]\n"
      ],
      "metadata": {
        "id": "yOPzqRBDUWVa"
      },
      "execution_count": 5,
      "outputs": []
    },
    {
      "cell_type": "code",
      "source": [
        "num=30"
      ],
      "metadata": {
        "id": "ODhFvUi1-grW"
      },
      "execution_count": 9,
      "outputs": []
    },
    {
      "cell_type": "code",
      "source": [
        "#遠いもの探索\n",
        "index=[461]\n",
        "num=30\n",
        "for i in range(num):\n",
        "  min=[0,1]\n",
        "  for j in range(len(remol)):\n",
        "    tmp=0\n",
        "    fp1=AllChem.GetMorganFingerprintAsBitVect(Chem.MolFromSmiles(remol[j]), 2, nBits=1024)\n",
        "    for k in range(len(index)):\n",
        "      fp2=AllChem.GetMorganFingerprintAsBitVect(Chem.MolFromSmiles(remol[index[k]]), 2, nBits=1024)\n",
        "      sim=TanimotoSimilarity(fp1, fp2)\n",
        "      if sim>tmp:\n",
        "        tmp=sim\n",
        "    if min[1]>tmp:\n",
        "      min=[j,tmp]\n",
        "  index.append(min[0]) \n",
        "index=sorted(index)\n"
      ],
      "metadata": {
        "id": "si1zlsRiltCU"
      },
      "execution_count": 6,
      "outputs": []
    },
    {
      "cell_type": "code",
      "source": [
        "print(index)\n",
        "# print(len(remol))\n",
        "smiles=[]\n",
        "properties = ['IUPACName', 'CanonicalSMILES']\n",
        "for i in range(num):\n",
        "  smiles.append(pcp.get_properties(properties,remol[index[i]],'smiles'))\n",
        "l=[]\n",
        "for i in range(num):\n",
        "  l.append([smiles[i][0]['CanonicalSMILES'],smiles[i][0]['IUPACName']])\n",
        "for i in range(num):\n",
        "  print(l[i][0])"
      ],
      "metadata": {
        "id": "dXCBOJgiZIsh",
        "outputId": "641db1a9-0708-4da0-e3a8-362896fa3cbd",
        "colab": {
          "base_uri": "https://localhost:8080/"
        }
      },
      "execution_count": 10,
      "outputs": [
        {
          "output_type": "stream",
          "name": "stdout",
          "text": [
            "[12, 44, 52, 54, 71, 73, 83, 172, 338, 348, 424, 442, 457, 461, 472, 507, 568, 576, 583, 619, 628, 634, 638, 639, 653, 702, 764, 809, 828, 829, 844]\n",
            "CC(C1=CC(=CC=C1)N2N=CC(=N2)C3=CC(=CC=C3)OC)SC4=NN=CN4C\n",
            "CC(C1=CC=CC(=C1)C2=CC(=NO2)C3=CC=C(C=C3)C(=O)NC)SC4=NN=CN4C\n",
            "CC(CC1=NN=CN1C)C2=CC=CC(=C2)C3=NNC4=C3N=CC(=C4)C5CCC5\n",
            "CC(CC1=NN=CN1C)C2=CC=CC(=C2)C3=NNC4=C3N=C(C=C4N5CCC(C5)O)C(F)(F)F\n",
            "CC(C1=CC(=CC=C1)NC(=O)N2CC3(CNC3)OC4=C2N=CC=C4)(C(C5=NN=CN5C)(F)F)F\n",
            "CC(CC1=NN=CN1C)C2=CC(=CC=C2)N3CC4=C(C3=O)C=CC=C4Br\n",
            "CN1C=NN=C1C2CC2C3=CC(=CC=C3)N4CC5=C(C4=O)C=CN=C5C(F)(F)F\n",
            "CC1CN(CCN1C2=CC3=C(CN(C3=O)C4=CC=CC(=C4)C(C)(C(C5=NN=CN5C)(F)F)F)C(=C2)C(F)(F)F)C\n",
            "CC(C1=CC2=C(CN(C2=O)C3=CC=CC(=C3)C4(COC4)C(C5=NN=CN5C)F)C(=C1)C(F)(F)F)N6CCC7(C6)CC7\n",
            "CCOC1=CC(=CC(=C1)N2CC3=C(C2=O)C=C(C=C3C(F)(F)F)CN4CCC(C4)F)C5(COC5)CC6=NN=CN6C\n",
            "CC1CN(CCO1)CC2=CC3=C(CN(C3=O)C4=CC=CC(=C4)C5=C(C=NN5C)C6=NN=CN6C)C(=C2)C(F)(F)F\n",
            "CC1CC(CN1C(=O)C2=CC3=C(CN(C3=O)C4=CC=CC(=C4)C(C)CC5=C(C=NN5)C)C(=C2)C(F)(F)F)O\n",
            "CC(C1=CC(=CC=C1)N2CC3=C(C2=O)C=C(C=C3)C(C)(C)O)SC4=NN=CN4C\n",
            "CCNC1=NC(=CC(=C1)C(C)SC2=NN=CN2C)N3CC4=C(C3=O)C=CC=C4C(F)(F)F\n",
            "CC(CC1=NN=CN1C)C2=CC(=CC=C2)C(=O)NC3=CC=CC(=N3)C(F)(F)F\n",
            "CC(C)(CC1=NN=CN1C)C2=CC(=CC=C2)NC(=O)C3=NC(=NC=C3)C(F)(F)F\n",
            "CC(CC1=NN=CN1C)C2=CC(=CC=C2)NC(=O)C3=NC=CC(=C3)C(=O)N4CCC5(C4)COC5\n",
            "CCOC1=CC(=CC(=N1)NC(=O)C2=NC(=NC(=C2)C)C3CC3)C(C)(C(C4=NN=CN4C)(F)F)F\n",
            "CC1=CC(=NC(=N1)C2CC2)C(=O)NC3=CC=CC(=C3)C(C)CC4=NN=CS4\n",
            "CN1C=NN=C1C2CC2C3=CC(=CC=C3)NC(=O)C4=NC5=C(C=CC=C5N4)C(F)(F)F\n",
            "CC1=CON=C1CC2(COC2)C3=CC(=CC=C3)NC(=O)C4=NC(=NC(=C4)CN5CCC6(C5)CC6)C7CC7\n",
            "CN1C=NN=C1CC2(COC2)C3=CC(=CC=C3)N4CC5C(CCN5C4=O)C(F)(F)F\n",
            "CN1C=NN=C1CC2(COC2)C3=CC(=CC=C3)NC(=O)C4=C5C(=NN4)CCCO5\n",
            "CC1=CN=NN1CC(C)C2=CC(=CC=C2)NC(=O)C3=NC(=CC=C3)C(F)(F)F\n",
            "CCN1C=C(C=N1)CN(C)C(=O)NC2=CC=CC(=C2)C(C)SC3=NN=CN3C\n",
            "CC(C1=CC(=CC=C1)NC(=O)N2CCOC(C2)C3=NOC=N3)SC4=NN=CN4C\n",
            "CC(C1=CC(=C(C=C1)OC(F)(F)F)NC(=O)C2=NC(=CC=C2)C(F)(F)F)SC3=NN=CN3C\n",
            "CN1C=NN=C1SC(CC=C)C2=CC(=CC=C2)NC(=O)C3=NC4=CC=CC=C4C=C3\n",
            "CC(C1=CC(=NC=C1)NC(=O)C2=NC=C3CCCCC3=C2)SC4=NN=CN4C\n",
            "CC(C1=CC(=CC=C1)NC(=O)C2=CC3=CC=CC=C3C=N2)SC4=NC=NN4\n"
          ]
        }
      ]
    },
    {
      "cell_type": "code",
      "source": [
        "slist=[\n",
        "'CC(C1=CC=CC(=C1)C2=CC(=NO2)C3=CC=C(C=C3)C(=O)NC)SC4=NN=CN4N',\n",
        "'CC(CC1=NN=CN1C)C2=CC=CC(=C2)C3=NNC4=C3N=C(C=C4N5CCC(C5)O)C(F)(F)Cl',\n",
        "'CC(CC1=NN=CN1C)C2=CC(=CC=C2)N3CC4=C(C3=O)C=CC=C4I',\n",
        "'CC(C1=CC2=C(CN(C2=O)C3=CC=CC(=C3)C4(COC4)C(C5=NN=CN5C)F)C(=C1)C(F)(F)Cl)N6CCC7(C6)CC7',\n",
        "'CCOC1=CC(=CC(=C1)N2CC3=C(C2=O)C=C(C=C3C(F)(F)Cl)CN4CCC(C4)F)C5(COC5)CC6=NN=CN6C',\n",
        "'CC(CC1=NN=CN1C)C2=CC=CC(=C2)C3=NNC4=C3N=C(C=C4N5CCC(C5)O)C(F)(F)I',\n",
        "'CC(C1=CC2=C(CN(C2=O)C3=CC=CC(=C3)C4(COC4)C(C5=NN=CN5C)F)C(=C1)C(F)(F)Br)N6CCC7(C6)CC7',\n",
        "'CCOC1=CC(=CC(=C1)N2CC3=C(C2=O)C=C(C=C3C(F)(F)Br)CN4CCC(C4)F)C5(COC5)CC6=NN=CN6C',\n",
        "'CC(C1=CC2=C(CN(C2=O)C3=CC=CC(=C3)C4(COC4)C(C5=NN=CN5C)F)C(=C1)C(F)(F)Br)N6CCC7(C6)CC7',\n",
        "'CCOC1=CC(=CC(=C1)N2CC3=C(C2=O)C=C(C=C3C(F)(F)Br)CN4CCC(C4)F)C5(COC5)CC6=NN=CN6C',\n",
        "'CC1CN(CCO1)CC2=CC3=C(CN(C3=O)C4=CC=CC(=C4)C5=C(C=NN5C)C6=NN=CN6Cl)C(=C2)C(F)(F)F',\n",
        "'CC1CC(CN1C(=O)C2=CC3=C(CN(C3=O)C4=CC=CC(=C4)C(C)CC5=C(C=NN5)C)C(=C2)C(F)(F)Cl)O',\n",
        "'CC(C1=CC(=CC=C1)N2CC3=C(C2=O)C=C(C=C3)C(C)(C)O)SC4=NN=CN4Cl',\n",
        "'CCNC1=NC(=CC(=C1)C(C)SC2=NN=CN2C)N3CC4=C(C3=O)C=CC=C4C(F)(F)Cl',\n",
        "'CC(CC1=NN=CN1C)C2=CC(=CC=C2)C(=O)NC3=CC=CC(=N3)C(F)(F)Cl',\n",
        "'CC(C)(CC1=NN=CN1C)C2=CC(=CC=C2)NC(=O)C3=NC(=NC=C3)C(F)(F)Cl',\n",
        "'CC(CC1=NN=CN1C)C2=CC(=CC=C2)NC(=O)C3=NC=CC(=C3)C(=O)N4CCC5(C4)COC5Cl',\n",
        "'CCOC1=CC(=CC(=N1)NC(=O)C2=NC(=NC(=C2)C)C3CC3)C(C)(C(C4=NN=CN4C)(F)F)Cl',\n",
        "'CC1=CC(=NC(=N1)C2CC2)C(=O)NC3=CC=CC(=C3)C(C)CC4=NN=CS4Cl',\n",
        "'CN1C=NN=C1C2CC2C3=CC(=CC=C3)NC(=O)C4=NC5=C(C=CC=C5N4)C(F)(F)Cl',\n",
        "'CC1=CON=C1CC2(COC2)C3=CC(=CC=C3)NC(=O)C4=NC(=NC(=C4)CN5CCC6(C5)CC6)C7CC7Cl',\n",
        "'CN1C=NN=C1CC2(COC2)C3=CC(=CC=C3)N4CC5C(CCN5C4=O)C(F)(F)Cl',\n",
        "'CN1C=NN=C1CC2(COC2)C3=CC(=CC=C3)NC(=O)C4=C5C(=NN4)CCCO5Cl',\n",
        "'CC1=CN=NN1CC(C)C2=CC(=CC=C2)NC(=O)C3=NC(=CC=C3)C(F)(F)Cl',\n",
        "'CCN1C=C(C=N1)CN(C)C(=O)NC2=CC=CC(=C2)C(C)SC3=NN=CN3Cl',\n",
        "'CC(C1=CC(=CC=C1)NC(=O)N2CCOC(C2)C3=NOC=N3)SC4=NN=CN4Cl',\n",
        "'CC(C1=CC(=C(C=C1)OC(F)(F)F)NC(=O)C2=NC(=CC=C2)C(F)(F)Cl)SC3=NN=CN3C',\n",
        "'CN1C=NN=C1SC(CC=C)C2=CC(=CC=C2)NC(=O)C3=NC4=CC=CC=C4C=C3Cl',\n",
        "'CC(C1=CC(=NC=C1)NC(=O)C2=NC=C3CCCCC3=C2)SC4=NN=CN4Cl',\n",
        "'CC(C1=CC(=CC=C1)NC(=O)C2=CC3=CC=CC=C3C=N2)SC4=NC=NN4Cl'\n",
        "]\n",
        "valid=[]\n",
        "for i in range(len(slist)):\n",
        "  try:\n",
        "     mol= Chem.MolFromSmiles(slist[i])\n",
        "     if mol is None :\n",
        "      print(i)\n",
        "     else:\n",
        "      valid.append(slist[i])\n",
        "  except:\n",
        "    print(i)\n",
        "print(len(valid))"
      ],
      "metadata": {
        "id": "dIuitqeoCACh",
        "outputId": "8228526d-30d0-455d-b815-05f86588fd93",
        "colab": {
          "base_uri": "https://localhost:8080/"
        }
      },
      "execution_count": 40,
      "outputs": [
        {
          "output_type": "stream",
          "name": "stdout",
          "text": [
            "22\n",
            "29\n"
          ]
        },
        {
          "output_type": "stream",
          "name": "stderr",
          "text": [
            "[11:09:33] Explicit valence for atom # 28 O, 3, is greater than permitted\n"
          ]
        }
      ]
    },
    {
      "cell_type": "code",
      "source": [
        "#もと900の谷本との比較\n",
        "max=[]\n",
        "for i in range(len(valid)):\n",
        "  mol=Chem.MolFromSmiles(valid[i])\n",
        "  m=[0,0,i]\n",
        "  for j in range(len(remol)):\n",
        "    mol1=Chem.MolFromSmiles(remol[j])\n",
        "    fp1 = AllChem.GetMorganFingerprintAsBitVect(mol, 2, nBits=1024)\n",
        "    fp2 = AllChem.GetMorganFingerprintAsBitVect(mol1, 2, nBits=1024)\n",
        "    similarity = TanimotoSimilarity(fp1, fp2)\n",
        "    if m[0]< similarity:\n",
        "      m[0]=similarity\n",
        "      m[1]=j\n",
        "  max.append(m)\n",
        "\n",
        "\n"
      ],
      "metadata": {
        "colab": {
          "base_uri": "https://localhost:8080/"
        },
        "id": "qeqJUz_Dm6Qd",
        "outputId": "b072d919-93c3-4846-dfcb-74e52c3bacc1"
      },
      "execution_count": 43,
      "outputs": [
        {
          "output_type": "stream",
          "name": "stdout",
          "text": [
            "[[0.6764705882352942, 499, 18], [0.6966292134831461, 442, 11], [0.6986301369863014, 619, 19], [0.6987951807228916, 54, 5], [0.7073170731707317, 54, 1], [0.7258064516129032, 822, 28], [0.775, 568, 16], [0.7857142857142857, 809, 26], [0.7931034482758621, 73, 2], [0.8387096774193549, 44, 0], [0.8412698412698413, 457, 12], [0.8484848484848485, 653, 23], [0.8524590163934426, 828, 27], [0.8536585365853658, 628, 20], [0.8571428571428571, 702, 24], [0.864406779661017, 472, 14], [0.8771929824561403, 639, 22], [0.8787878787878788, 634, 21], [0.8840579710144928, 576, 17], [0.8852459016393442, 507, 15], [0.8888888888888888, 764, 25], [0.891566265060241, 424, 10], [0.9, 461, 13], [0.9012345679012346, 338, 3], [0.9036144578313253, 348, 4], [0.9125, 338, 6], [0.9125, 338, 8], [0.9146341463414634, 348, 7], [0.9146341463414634, 348, 9]]\n"
          ]
        }
      ]
    },
    {
      "cell_type": "code",
      "source": [
        "# 提案化合物同士がかぶってるか\n",
        "print(len(valid))\n",
        "import copy\n",
        "validunique=copy.deepcopy(valid)\n",
        "flag=[]\n",
        "for i in range(len(valid)):\n",
        "  for j in range(i+1,len(valid)):\n",
        "    mol1=Chem.MolFromSmiles(valid[i])\n",
        "    mol2=Chem.MolFromSmiles(valid[j])\n",
        "    fp1 = AllChem.GetMorganFingerprintAsBitVect(mol1, 2, nBits=1024)\n",
        "    fp2 = AllChem.GetMorganFingerprintAsBitVect(mol2, 2, nBits=1024)\n",
        "    similarity = TanimotoSimilarity(fp1, fp2)\n",
        "    if similarity==1:\n",
        "      validunique.remove(valid[i])\n",
        "      print(1)\n",
        "\n",
        "print(len(validunique))"
      ],
      "metadata": {
        "id": "qvJzesXw1EQx",
        "colab": {
          "base_uri": "https://localhost:8080/"
        },
        "outputId": "dfff1c6a-7f3e-498f-842a-bf493da788a0"
      },
      "execution_count": 42,
      "outputs": [
        {
          "output_type": "stream",
          "name": "stdout",
          "text": [
            "29\n",
            "1\n",
            "1\n",
            "27\n"
          ]
        }
      ]
    },
    {
      "cell_type": "code",
      "source": [
        "max=[]\n",
        "for i in range(len(validunique)):\n",
        "  mol=Chem.MolFromSmiles(validunique[i])\n",
        "  m=[0,0,i]\n",
        "  for j in range(len(remol)):\n",
        "    mol1=Chem.MolFromSmiles(remol[j])\n",
        "    fp1 = AllChem.GetMorganFingerprintAsBitVect(mol, 2, nBits=1024)\n",
        "    fp2 = AllChem.GetMorganFingerprintAsBitVect(mol1, 2, nBits=1024)\n",
        "    similarity = TanimotoSimilarity(fp1, fp2)\n",
        "    if m[0]< similarity:\n",
        "      m[0]=similarity\n",
        "      m[1]=j\n",
        "  max.append(m)\n",
        "print(len(max))\n",
        "print(sorted(max))\n",
        "# for i in range(9):\n",
        "#   print(max[i])"
      ],
      "metadata": {
        "id": "IhfSGUe9EXSi",
        "colab": {
          "base_uri": "https://localhost:8080/"
        },
        "outputId": "330967ea-d781-4306-e4d9-59b92c62bf93"
      },
      "execution_count": 51,
      "outputs": [
        {
          "output_type": "stream",
          "name": "stdout",
          "text": [
            "27\n",
            "[[0.6764705882352942, 499, 16], [0.6966292134831461, 442, 9], [0.6986301369863014, 619, 17], [0.6987951807228916, 54, 5], [0.7073170731707317, 54, 1], [0.7258064516129032, 822, 26], [0.775, 568, 14], [0.7857142857142857, 809, 24], [0.7931034482758621, 73, 2], [0.8387096774193549, 44, 0], [0.8412698412698413, 457, 10], [0.8484848484848485, 653, 21], [0.8524590163934426, 828, 25], [0.8536585365853658, 628, 18], [0.8571428571428571, 702, 22], [0.864406779661017, 472, 12], [0.8771929824561403, 639, 20], [0.8787878787878788, 634, 19], [0.8840579710144928, 576, 15], [0.8852459016393442, 507, 13], [0.8888888888888888, 764, 23], [0.891566265060241, 424, 8], [0.9, 461, 11], [0.9012345679012346, 338, 3], [0.9036144578313253, 348, 4], [0.9125, 338, 6], [0.9146341463414634, 348, 7]]\n"
          ]
        }
      ]
    },
    {
      "cell_type": "code",
      "source": [
        "sormax=sorted(max)\n",
        "for i in range(10):\n",
        "  print(validunique[sormax[i][2]])"
      ],
      "metadata": {
        "colab": {
          "base_uri": "https://localhost:8080/"
        },
        "id": "m1uQWGJoJFMx",
        "outputId": "ac3eb4a9-59e3-4ba0-b0d9-c42445449d9d"
      },
      "execution_count": 55,
      "outputs": [
        {
          "output_type": "stream",
          "name": "stdout",
          "text": [
            "CC1=CC(=NC(=N1)C2CC2)C(=O)NC3=CC=CC(=C3)C(C)CC4=NN=CS4Cl\n",
            "CC1CC(CN1C(=O)C2=CC3=C(CN(C3=O)C4=CC=CC(=C4)C(C)CC5=C(C=NN5)C)C(=C2)C(F)(F)Cl)O\n",
            "CN1C=NN=C1C2CC2C3=CC(=CC=C3)NC(=O)C4=NC5=C(C=CC=C5N4)C(F)(F)Cl\n",
            "CC(CC1=NN=CN1C)C2=CC=CC(=C2)C3=NNC4=C3N=C(C=C4N5CCC(C5)O)C(F)(F)I\n",
            "CC(CC1=NN=CN1C)C2=CC=CC(=C2)C3=NNC4=C3N=C(C=C4N5CCC(C5)O)C(F)(F)Cl\n",
            "CC(C1=CC(=CC=C1)NC(=O)C2=CC3=CC=CC=C3C=N2)SC4=NC=NN4Cl\n",
            "CC(CC1=NN=CN1C)C2=CC(=CC=C2)NC(=O)C3=NC=CC(=C3)C(=O)N4CCC5(C4)COC5Cl\n",
            "CN1C=NN=C1SC(CC=C)C2=CC(=CC=C2)NC(=O)C3=NC4=CC=CC=C4C=C3Cl\n",
            "CC(CC1=NN=CN1C)C2=CC(=CC=C2)N3CC4=C(C3=O)C=CC=C4I\n",
            "CC(C1=CC=CC(=C1)C2=CC(=NO2)C3=CC=C(C=C3)C(=O)NC)SC4=NN=CN4N\n"
          ]
        }
      ]
    }
  ]
}